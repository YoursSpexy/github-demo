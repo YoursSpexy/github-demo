{
  "nbformat": 4,
  "nbformat_minor": 0,
  "metadata": {
    "colab": {
      "provenance": [],
      "authorship_tag": "ABX9TyOtACTZ/d7CkS1f8jC1XGNK",
      "include_colab_link": true
    },
    "kernelspec": {
      "name": "python3",
      "display_name": "Python 3"
    },
    "language_info": {
      "name": "python"
    }
  },
  "cells": [
    {
      "cell_type": "markdown",
      "metadata": {
        "id": "view-in-github",
        "colab_type": "text"
      },
      "source": [
        "<a href=\"https://colab.research.google.com/github/shaikh-rumiza-shakeel/github-notebooks/blob/master/config.ipynb\" target=\"_parent\"><img src=\"https://colab.research.google.com/assets/colab-badge.svg\" alt=\"Open In Colab\"/></a>"
      ]
    },
    {
      "cell_type": "code",
      "execution_count": 3,
      "metadata": {
        "id": "Mu7ZHuaQAbYO"
      },
      "outputs": [],
      "source": [
        "import torch\n",
        "import albumentations as A\n",
        "from albumentations.pytorch import ToTensorV2"
      ]
    },
    {
      "cell_type": "code",
      "source": [
        "DEVICE  = \"cuda\" if torch.cuda.is_available() else \"cpu\"\n",
        "LEARNING_RATE = 1e-4\n",
        "WEIGH_DECAY = 5e-4\n",
        "BATCH_SIZE = 128\n",
        "NUM_EPOCHS = 100\n",
        "NUM_WORKERS = 6\n",
        "CHECKPOINT_FILE = \"b3.pth.tar\"\n",
        "PIN_MEMORY = True\n",
        "SAVE_MODEL = True\n",
        "LOAD_MODEL = True"
      ],
      "metadata": {
        "id": "G0tB1wcWA_-S"
      },
      "execution_count": 6,
      "outputs": []
    },
    {
      "cell_type": "code",
      "source": [
        "# data augmentation for images\n",
        "train_transforms = A.Compose(\n",
        "    [\n",
        "        A.Resize(width = 150, height = 150),\n",
        "        A.RandomCrop(width = 120, height = 120),\n",
        "        A.Normalize(\n",
        "            mean = [0.3199, 0.2240, 0.1609],\n",
        "            std = [0.3020, 0.2183, 0.1741],\n",
        "            max_pixel_value=255.0,\n",
        "        ),\n",
        "     ToTensorV2(),\n",
        "    ]\n",
        ")"
      ],
      "metadata": {
        "id": "G8U8LK0RCjqR"
      },
      "execution_count": 7,
      "outputs": []
    },
    {
      "cell_type": "code",
      "source": [
        "val_transforms = A.Compose(\n",
        "    [\n",
        "        A.Resize(height=728, width=728),\n",
        "        A.Normalize(\n",
        "            mean=[0.3199, 0.2240, 0.1609],\n",
        "            std=[0.3020, 0.2183, 0.1741],\n",
        "            max_pixel_value=255.0,\n",
        "        ),\n",
        "        ToTensorV2(),\n",
        "    ]\n",
        ")"
      ],
      "metadata": {
        "id": "90TBG-NjEJAu"
      },
      "execution_count": 8,
      "outputs": []
    }
  ]
}