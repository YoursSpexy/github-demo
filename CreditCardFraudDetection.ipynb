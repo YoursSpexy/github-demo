{
  "nbformat": 4,
  "nbformat_minor": 0,
  "metadata": {
    "colab": {
      "name": "CreditCardFraudDetection.ipynb",
      "provenance": [],
      "collapsed_sections": [],
      "authorship_tag": "ABX9TyMbngrpJR5DaJHeZA27Byuc",
      "include_colab_link": true
    },
    "kernelspec": {
      "name": "python3",
      "display_name": "Python 3"
    },
    "language_info": {
      "name": "python"
    }
  },
  "cells": [
    {
      "cell_type": "markdown",
      "metadata": {
        "id": "view-in-github",
        "colab_type": "text"
      },
      "source": [
        "<a href=\"https://colab.research.google.com/github/shaikh-rumiza-shakeel/github-demo/blob/master/CreditCardFraudDetection.ipynb\" target=\"_parent\"><img src=\"https://colab.research.google.com/assets/colab-badge.svg\" alt=\"Open In Colab\"/></a>"
      ]
    },
    {
      "cell_type": "markdown",
      "source": [
        "# ***The complete end-to-end model training process to get the best model that can classify the transactions into normal and abnormal types.*** "
      ],
      "metadata": {
        "id": "MHb3PtTc3mUa"
      }
    },
    {
      "cell_type": "markdown",
      "source": [
        "# About the data\n",
        "\n",
        "The data for this article can be found here. This dataset contains the real bank transactions made by European cardholders in the year 2013. As a security concern, the actual variables are not being shared but — they have been transformed versions of PCA. As a result, we can find 29 feature columns and 1 final class column."
      ],
      "metadata": {
        "id": "ulmDo5gA39FD"
      }
    },
    {
      "cell_type": "markdown",
      "source": [
        "# Importing Necessary Libraries\n",
        "\n",
        "It is a good practice to import all the necessary libraries in one place — so that we can modify them quickly.\n",
        "For this credit card data, the features that we have in the dataset are the transformed version of PCA, so we will not need to perform the feature selection again. Otherwise, it is recommended to use RFE, RFECV, SelectKBest and VIF score to find the best features for your model."
      ],
      "metadata": {
        "id": "5AYG0Sdi4N-B"
      }
    },
    {
      "cell_type": "code",
      "execution_count": 179,
      "metadata": {
        "colab": {
          "base_uri": "https://localhost:8080/",
          "height": 34
        },
        "id": "2un7rfE7X3Uk",
        "outputId": "f21aa1c2-d70e-4e51-d6ab-2b232fa6a4f0"
      },
      "outputs": [
        {
          "output_type": "display_data",
          "data": {
            "text/plain": [
              "<Figure size 432x216 with 0 Axes>"
            ]
          },
          "metadata": {}
        }
      ],
      "source": [
        "#Packages related to general operating system & warnings\n",
        "import os \n",
        "import warnings\n",
        "warnings.filterwarnings('ignore')\n",
        "#Packages related to data importing, manipulation, exploratory data #analysis, data understanding\n",
        "import numpy as np\n",
        "import pandas as pd\n",
        "from pandas import Series, DataFrame\n",
        "from numpy import inf\n",
        "from termcolor import colored as cl # text customization\n",
        "#Packages related to data visualizaiton\n",
        "import seaborn as sns\n",
        "import matplotlib.pyplot as plt\n",
        "%matplotlib inline\n",
        "#Setting plot sizes and type of plot\n",
        "plt.rc(\"font\", size=14)\n",
        "plt.rcParams['axes.grid'] = True\n",
        "plt.figure(figsize=(6,3))\n",
        "plt.gray()\n",
        "from matplotlib.backends.backend_pdf import PdfPages\n",
        "from sklearn.model_selection import train_test_split, GridSearchCV\n",
        "from sklearn import metrics\n",
        "from sklearn.impute import MissingIndicator, SimpleImputer\n",
        "from sklearn.preprocessing import  PolynomialFeatures, KBinsDiscretizer, FunctionTransformer\n",
        "from sklearn.preprocessing import StandardScaler, MinMaxScaler, MaxAbsScaler\n",
        "from sklearn.preprocessing import LabelEncoder, OneHotEncoder, LabelBinarizer, OrdinalEncoder\n",
        "import statsmodels.formula.api as smf\n",
        "import statsmodels.tsa as tsa\n",
        "from sklearn.linear_model import LogisticRegression, LinearRegression, ElasticNet, Lasso, Ridge\n",
        "from sklearn.neighbors import KNeighborsClassifier, KNeighborsRegressor\n",
        "from sklearn.tree import DecisionTreeClassifier, DecisionTreeRegressor, export_graphviz\n",
        "from sklearn.ensemble import BaggingClassifier, BaggingRegressor,RandomForestClassifier,RandomForestRegressor\n",
        "from sklearn.ensemble import GradientBoostingClassifier,GradientBoostingRegressor, AdaBoostClassifier, AdaBoostRegressor \n",
        "from sklearn.svm import LinearSVC, LinearSVR, SVC, SVR\n",
        "from xgboost import XGBClassifier\n",
        "from sklearn.metrics import f1_score\n",
        "from sklearn.metrics import accuracy_score\n",
        "from sklearn.metrics import confusion_matrix"
      ]
    },
    {
      "cell_type": "markdown",
      "source": [
        "#Importing the Dataset\n",
        "\n",
        "Importing the dataset is pretty much simple. You can use pandas module in python to import it.\n",
        "\n",
        "Run the below command to import your data."
      ],
      "metadata": {
        "id": "HDJ8UU3b4ZH5"
      }
    },
    {
      "cell_type": "code",
      "source": [
        "data=pd.read_csv(\"/content/sample_data/creditcard.csv\")"
      ],
      "metadata": {
        "id": "G5JS20DlfNoT"
      },
      "execution_count": 180,
      "outputs": []
    },
    {
      "cell_type": "markdown",
      "source": [
        "Replacing the NAN values in the Dataset"
      ],
      "metadata": {
        "id": "A1yO2o0r4rTk"
      }
    },
    {
      "cell_type": "code",
      "source": [
        "data = data.fillna(194194)"
      ],
      "metadata": {
        "id": "A4Dw2R4NqxwL"
      },
      "execution_count": 181,
      "outputs": []
    },
    {
      "cell_type": "markdown",
      "source": [
        "Checking the transaction distribution"
      ],
      "metadata": {
        "id": "VFBVlV0_NO_g"
      }
    },
    {
      "cell_type": "code",
      "source": [
        "Total_transactions = len(data)\n",
        "normal = len(data[data.Class == 0])\n",
        "fraudulent = len(data[data.Class == 1])\n",
        "fraud_percentage = round(fraudulent/normal*100, 2)\n",
        "print(cl('Total number of Trnsactions are {}'.format(Total_transactions), attrs = ['bold']))\n",
        "print(cl('Number of Normal Transactions are {}'.format(normal), attrs = ['bold']))\n",
        "print(cl('Number of fraudulent Transactions are {}'.format(fraudulent), attrs = ['bold']))\n",
        "print(cl('Percentage of fraud Transactions is {}'.format(fraud_percentage), attrs = ['bold']))\n"
      ],
      "metadata": {
        "colab": {
          "base_uri": "https://localhost:8080/"
        },
        "id": "wVgtf8QdfVPt",
        "outputId": "d3f3cdc6-d4ec-4997-b655-d7751183cc17"
      },
      "execution_count": 182,
      "outputs": [
        {
          "output_type": "stream",
          "name": "stdout",
          "text": [
            "\u001b[1mTotal number of Trnsactions are 284807\u001b[0m\n",
            "\u001b[1mNumber of Normal Transactions are 284315\u001b[0m\n",
            "\u001b[1mNumber of fraudulent Transactions are 492\u001b[0m\n",
            "\u001b[1mPercentage of fraud Transactions is 0.17\u001b[0m\n"
          ]
        }
      ]
    },
    {
      "cell_type": "markdown",
      "source": [
        "We can also check for null values using the following lines of code."
      ],
      "metadata": {
        "id": "-qVwDRcTNWt0"
      }
    },
    {
      "cell_type": "code",
      "source": [
        "data.info()"
      ],
      "metadata": {
        "colab": {
          "base_uri": "https://localhost:8080/"
        },
        "id": "G_XbkWmjfZZ5",
        "outputId": "27486375-972c-44fd-d3ca-d5c64a50a164"
      },
      "execution_count": 183,
      "outputs": [
        {
          "output_type": "stream",
          "name": "stdout",
          "text": [
            "<class 'pandas.core.frame.DataFrame'>\n",
            "RangeIndex: 284807 entries, 0 to 284806\n",
            "Data columns (total 31 columns):\n",
            " #   Column  Non-Null Count   Dtype  \n",
            "---  ------  --------------   -----  \n",
            " 0   Time    284807 non-null  float64\n",
            " 1   V1      284807 non-null  float64\n",
            " 2   V2      284807 non-null  float64\n",
            " 3   V3      284807 non-null  float64\n",
            " 4   V4      284807 non-null  float64\n",
            " 5   V5      284807 non-null  float64\n",
            " 6   V6      284807 non-null  float64\n",
            " 7   V7      284807 non-null  float64\n",
            " 8   V8      284807 non-null  float64\n",
            " 9   V9      284807 non-null  float64\n",
            " 10  V10     284807 non-null  float64\n",
            " 11  V11     284807 non-null  float64\n",
            " 12  V12     284807 non-null  float64\n",
            " 13  V13     284807 non-null  float64\n",
            " 14  V14     284807 non-null  float64\n",
            " 15  V15     284807 non-null  float64\n",
            " 16  V16     284807 non-null  float64\n",
            " 17  V17     284807 non-null  float64\n",
            " 18  V18     284807 non-null  float64\n",
            " 19  V19     284807 non-null  float64\n",
            " 20  V20     284807 non-null  float64\n",
            " 21  V21     284807 non-null  float64\n",
            " 22  V22     284807 non-null  float64\n",
            " 23  V23     284807 non-null  float64\n",
            " 24  V24     284807 non-null  float64\n",
            " 25  V25     284807 non-null  float64\n",
            " 26  V26     284807 non-null  float64\n",
            " 27  V27     284807 non-null  float64\n",
            " 28  V28     284807 non-null  float64\n",
            " 29  Amount  284807 non-null  float64\n",
            " 30  Class   284807 non-null  int64  \n",
            "dtypes: float64(30), int64(1)\n",
            "memory usage: 67.4 MB\n"
          ]
        }
      ]
    },
    {
      "cell_type": "code",
      "source": [
        "data.isnull().any()"
      ],
      "metadata": {
        "colab": {
          "base_uri": "https://localhost:8080/"
        },
        "id": "svfqt0qKo56j",
        "outputId": "6ae6a28e-1717-48e4-ede2-e37cc2555cc5"
      },
      "execution_count": 184,
      "outputs": [
        {
          "output_type": "execute_result",
          "data": {
            "text/plain": [
              "Time      False\n",
              "V1        False\n",
              "V2        False\n",
              "V3        False\n",
              "V4        False\n",
              "V5        False\n",
              "V6        False\n",
              "V7        False\n",
              "V8        False\n",
              "V9        False\n",
              "V10       False\n",
              "V11       False\n",
              "V12       False\n",
              "V13       False\n",
              "V14       False\n",
              "V15       False\n",
              "V16       False\n",
              "V17       False\n",
              "V18       False\n",
              "V19       False\n",
              "V20       False\n",
              "V21       False\n",
              "V22       False\n",
              "V23       False\n",
              "V24       False\n",
              "V25       False\n",
              "V26       False\n",
              "V27       False\n",
              "V28       False\n",
              "Amount    False\n",
              "Class     False\n",
              "dtype: bool"
            ]
          },
          "metadata": {},
          "execution_count": 184
        }
      ]
    },
    {
      "cell_type": "markdown",
      "source": [
        "Checking the minimum and maximum is in the amount tells us that the difference is huge that can deviate our result."
      ],
      "metadata": {
        "id": "_5AZt80BN3Xs"
      }
    },
    {
      "cell_type": "code",
      "source": [
        "min(data.Amount), max(data.Amount)"
      ],
      "metadata": {
        "colab": {
          "base_uri": "https://localhost:8080/"
        },
        "id": "SKReT8Iwfg41",
        "outputId": "a0595b83-ad8b-49e6-c962-7ceb7a58092e"
      },
      "execution_count": 185,
      "outputs": [
        {
          "output_type": "execute_result",
          "data": {
            "text/plain": [
              "(0.0, 25691.16)"
            ]
          },
          "metadata": {},
          "execution_count": 185
        }
      ]
    },
    {
      "cell_type": "markdown",
      "source": [
        "In this case, it is a good practice to scale this variable. We can use a standard scaler to make it fix."
      ],
      "metadata": {
        "id": "SuPXxXT8OF0s"
      }
    },
    {
      "cell_type": "code",
      "source": [
        "sc = StandardScaler()\n",
        "amount = data['Amount'].values\n",
        "data['Amount'] = sc.fit_transform(amount.reshape(-1, 1))"
      ],
      "metadata": {
        "id": "rGYZVJFlfo8i"
      },
      "execution_count": 186,
      "outputs": []
    },
    {
      "cell_type": "markdown",
      "source": [
        "We have one more variable which is the time which can be an external deciding factor — but in our modelling process, we can drop it."
      ],
      "metadata": {
        "id": "Iq2_GrmhOL-H"
      }
    },
    {
      "cell_type": "code",
      "source": [
        "data.drop(['Time'], axis=1, inplace=True)"
      ],
      "metadata": {
        "id": "Wzmpr2zjfsVl"
      },
      "execution_count": 187,
      "outputs": []
    },
    {
      "cell_type": "markdown",
      "source": [
        "Let’s remove the duplicates in our data and observe the changes."
      ],
      "metadata": {
        "id": "6_eKpDUIOSzx"
      }
    },
    {
      "cell_type": "code",
      "source": [
        "data.shape"
      ],
      "metadata": {
        "colab": {
          "base_uri": "https://localhost:8080/"
        },
        "id": "BaKawPr9fvkg",
        "outputId": "faff32f4-d1a7-4848-95f6-5c220bedbcaf"
      },
      "execution_count": 188,
      "outputs": [
        {
          "output_type": "execute_result",
          "data": {
            "text/plain": [
              "(284807, 30)"
            ]
          },
          "metadata": {},
          "execution_count": 188
        }
      ]
    },
    {
      "cell_type": "markdown",
      "source": [
        "Run the below line of code to remove any duplicates."
      ],
      "metadata": {
        "id": "uRTQL-6GOlSJ"
      }
    },
    {
      "cell_type": "code",
      "source": [
        "data.drop_duplicates(inplace=True)"
      ],
      "metadata": {
        "id": "g6stoiNZf1dv"
      },
      "execution_count": 189,
      "outputs": []
    },
    {
      "cell_type": "markdown",
      "source": [
        "Let’s now check the count again."
      ],
      "metadata": {
        "id": "ziemKjQXOpQy"
      }
    },
    {
      "cell_type": "code",
      "source": [
        "data.shape"
      ],
      "metadata": {
        "colab": {
          "base_uri": "https://localhost:8080/"
        },
        "id": "ijdOIgj3f44f",
        "outputId": "59a94bac-d28d-44ce-8257-18f389120b31"
      },
      "execution_count": 190,
      "outputs": [
        {
          "output_type": "execute_result",
          "data": {
            "text/plain": [
              "(275663, 30)"
            ]
          },
          "metadata": {},
          "execution_count": 190
        }
      ]
    },
    {
      "cell_type": "markdown",
      "source": [
        "**So, we were having around ~9000 duplicate transactions.**"
      ],
      "metadata": {
        "id": "KMygRB7ZPDbO"
      }
    },
    {
      "cell_type": "markdown",
      "source": [
        "# Train & Test Split\n",
        "\n",
        "Before splitting train & test — we need to define dependent and independent variables. The dependent variable is also known as X and the independent variable is known as y."
      ],
      "metadata": {
        "id": "K4ZMZ2goPIsc"
      }
    },
    {
      "cell_type": "code",
      "source": [
        "X = data.drop('Class', axis = 1).values\n",
        "y = data['Class'].values"
      ],
      "metadata": {
        "id": "2-yvbdVLf-x5"
      },
      "execution_count": 191,
      "outputs": []
    },
    {
      "cell_type": "markdown",
      "source": [
        "Now, let split our train and test data."
      ],
      "metadata": {
        "id": "4fCgJALyPXm0"
      }
    },
    {
      "cell_type": "code",
      "source": [
        "X_train, X_test, y_train, y_test = train_test_split(X, y, test_size = 0.25, random_state = 1)"
      ],
      "metadata": {
        "id": "I_l0tcN8gBm5"
      },
      "execution_count": 192,
      "outputs": []
    },
    {
      "cell_type": "markdown",
      "source": [
        "Train data we will be used for training our model and the data which is unseen will be used for testing."
      ],
      "metadata": {
        "id": "jn1o3oYkP3mP"
      }
    },
    {
      "cell_type": "markdown",
      "source": [
        "Some lines of code to clean our dataset further and deal with any undealt NAN values"
      ],
      "metadata": {
        "id": "2e6JREtkP44v"
      }
    },
    {
      "cell_type": "code",
      "source": [
        "def clean_dataset(data):\n",
        "    assert isinstance(data, pd.DataFrame), \"data needs to be a pd.DataFrame\"\n",
        "    data.dropna(inplace=True)\n",
        "    indices_to_keep = ~data.isin([np.nan, np.inf, -np.inf]).any(1)\n",
        "    return data[indices_to_keep].astype(np.float64)"
      ],
      "metadata": {
        "id": "7UC_he_vjeSh"
      },
      "execution_count": 193,
      "outputs": []
    },
    {
      "cell_type": "code",
      "source": [
        "data.replace([np.inf, -np.inf], np.nan, inplace=True)\n",
        "data.fillna(999, inplace=True)"
      ],
      "metadata": {
        "id": "YtChDiy0mMRG"
      },
      "execution_count": 194,
      "outputs": []
    },
    {
      "cell_type": "code",
      "source": [
        "data[data == inf] = np.finfo(np.float32).max"
      ],
      "metadata": {
        "id": "lk4veJ5knb1a"
      },
      "execution_count": 195,
      "outputs": []
    },
    {
      "cell_type": "markdown",
      "source": [
        "# Model Building\n",
        "\n",
        "### ***Decision Tree***"
      ],
      "metadata": {
        "id": "p1pI1gJ9QGyX"
      }
    },
    {
      "cell_type": "code",
      "source": [
        "DT = DecisionTreeClassifier(max_depth = 4, criterion = 'entropy')\n",
        "DT.fit(X_train, y_train)\n",
        "dt_yhat = DT.predict(X_test)"
      ],
      "metadata": {
        "id": "PR6zrRUkgHL6"
      },
      "execution_count": 196,
      "outputs": []
    },
    {
      "cell_type": "markdown",
      "source": [
        "Let’s check the accuracy of our decision tree model."
      ],
      "metadata": {
        "id": "WqUu5s9fQTn0"
      }
    },
    {
      "cell_type": "code",
      "source": [
        "print('Accuracy score of the Decision Tree model is {}'.format(accuracy_score(y_test, dt_yhat)))"
      ],
      "metadata": {
        "colab": {
          "base_uri": "https://localhost:8080/"
        },
        "id": "2-i8w6Y4gKj9",
        "outputId": "049623b6-5122-4fef-f1fe-6dc7755fa43e"
      },
      "execution_count": 197,
      "outputs": [
        {
          "output_type": "stream",
          "name": "stdout",
          "text": [
            "Accuracy score of the Decision Tree model is 0.9991729061466132\n"
          ]
        }
      ]
    },
    {
      "cell_type": "markdown",
      "source": [
        "Checking F1-Score for the decision tree model."
      ],
      "metadata": {
        "id": "j1W7GtUiQXKF"
      }
    },
    {
      "cell_type": "code",
      "source": [
        "print('F1 score of the Decision Tree model is {}'.format(f1_score(y_test, dt_yhat)))"
      ],
      "metadata": {
        "id": "z-_OUMStgNiC",
        "colab": {
          "base_uri": "https://localhost:8080/"
        },
        "outputId": "0dcd4369-d3d5-408b-86d0-25f60b6be66b"
      },
      "execution_count": 198,
      "outputs": [
        {
          "output_type": "stream",
          "name": "stdout",
          "text": [
            "F1 score of the Decision Tree model is 0.7574468085106382\n"
          ]
        }
      ]
    },
    {
      "cell_type": "markdown",
      "source": [
        "Checking the confusion matrix:"
      ],
      "metadata": {
        "id": "a1yeC-tKQaJM"
      }
    },
    {
      "cell_type": "code",
      "source": [
        "confusion_matrix(y_test, dt_yhat, labels = [0, 1])"
      ],
      "metadata": {
        "id": "O355_esXgQFj",
        "colab": {
          "base_uri": "https://localhost:8080/"
        },
        "outputId": "db998001-a433-41c1-a0ea-3daeca534bfd"
      },
      "execution_count": 199,
      "outputs": [
        {
          "output_type": "execute_result",
          "data": {
            "text/plain": [
              "array([[68770,    18],\n",
              "       [   39,    89]])"
            ]
          },
          "metadata": {},
          "execution_count": 199
        }
      ]
    },
    {
      "cell_type": "markdown",
      "source": [
        "*Let’s now try different models and check their performance...*"
      ],
      "metadata": {
        "id": "y7M-txSXQein"
      }
    },
    {
      "cell_type": "markdown",
      "source": [
        "### ***K-Nearest Neighbors***"
      ],
      "metadata": {
        "id": "LdAQ7hbiQjxO"
      }
    },
    {
      "cell_type": "code",
      "source": [
        "n = 7\n",
        "KNN = KNeighborsClassifier(n_neighbors = n)\n",
        "KNN.fit(X_train, y_train)\n",
        "knn_yhat = KNN.predict(X_test)"
      ],
      "metadata": {
        "id": "qkNpEr9BgS3q"
      },
      "execution_count": null,
      "outputs": []
    },
    {
      "cell_type": "markdown",
      "source": [
        "Let’s check the accuracy of our K-Nearest Neighbors model."
      ],
      "metadata": {
        "id": "zEoIzYeXQuxD"
      }
    },
    {
      "cell_type": "code",
      "source": [
        "print('Accuracy score of the K-Nearest Neighbors model is {}'.format(accuracy_score(y_test, knn_yhat)))"
      ],
      "metadata": {
        "id": "_FniclSZgVsE"
      },
      "execution_count": null,
      "outputs": []
    },
    {
      "cell_type": "markdown",
      "source": [
        "Checking F1-Score for the K-Nearest Neighbors model."
      ],
      "metadata": {
        "id": "TabBknpVQxzb"
      }
    },
    {
      "cell_type": "code",
      "source": [
        "print('F1 score of the K-Nearest Neighbors model is {}'.format(f1_score(y_test, knn_yhat)))"
      ],
      "metadata": {
        "id": "9dtMeZ40gXw-",
        "colab": {
          "base_uri": "https://localhost:8080/"
        },
        "outputId": "5efd70b2-c083-4d41-b08a-be95c0378102"
      },
      "execution_count": 154,
      "outputs": [
        {
          "output_type": "stream",
          "name": "stdout",
          "text": [
            "F1 score of the K-Nearest Neighbors model is 0.7777777777777778\n"
          ]
        }
      ]
    },
    {
      "cell_type": "markdown",
      "source": [
        "### ***Logistic Regression***"
      ],
      "metadata": {
        "id": "_igQ6RO1Q0mV"
      }
    },
    {
      "cell_type": "code",
      "source": [
        "lr = LogisticRegression()\n",
        "lr.fit(X_train, y_train)\n",
        "lr_yhat = lr.predict(X_test)"
      ],
      "metadata": {
        "id": "WzUitIxwgZqr"
      },
      "execution_count": 155,
      "outputs": []
    },
    {
      "cell_type": "markdown",
      "source": [
        "Let’s check the accuracy of our Logistic Regression model."
      ],
      "metadata": {
        "id": "-Dn6CCjgQ43Q"
      }
    },
    {
      "cell_type": "code",
      "source": [
        "print('Accuracy score of the Logistic Regression model is {}'.format(accuracy_score(y_test, lr_yhat)))"
      ],
      "metadata": {
        "id": "VcvQra5_gboT",
        "colab": {
          "base_uri": "https://localhost:8080/"
        },
        "outputId": "57691dd5-c6a1-43d5-92ba-b13e01a95d92"
      },
      "execution_count": 156,
      "outputs": [
        {
          "output_type": "stream",
          "name": "stdout",
          "text": [
            "Accuracy score of the Logistic Regression model is 0.9978228486306864\n"
          ]
        }
      ]
    },
    {
      "cell_type": "markdown",
      "source": [
        "Checking F1-Score for the Logistic Regression model."
      ],
      "metadata": {
        "id": "XbW9qHdcQ7KT"
      }
    },
    {
      "cell_type": "code",
      "source": [
        "print('F1 score of the Logistic Regression model is {}'.format(f1_score(y_test, lr_yhat)))"
      ],
      "metadata": {
        "id": "eQomIz5kgd1Y",
        "colab": {
          "base_uri": "https://localhost:8080/"
        },
        "outputId": "0dbdb416-0367-49f6-a5be-946aaed5eea1"
      },
      "execution_count": 157,
      "outputs": [
        {
          "output_type": "stream",
          "name": "stdout",
          "text": [
            "F1 score of the Logistic Regression model is 0.6274509803921569\n"
          ]
        }
      ]
    },
    {
      "cell_type": "markdown",
      "source": [
        "### ***Support Vector Machines***"
      ],
      "metadata": {
        "id": "rlLizYXiQ9rl"
      }
    },
    {
      "cell_type": "code",
      "source": [
        "svm = SVC()\n",
        "svm.fit(X_train, y_train)\n",
        "svm_yhat = svm.predict(X_test)"
      ],
      "metadata": {
        "id": "IN9LDbkmggLX"
      },
      "execution_count": 158,
      "outputs": []
    },
    {
      "cell_type": "markdown",
      "source": [
        "Let’s check the accuracy of our Support Vector Machines model."
      ],
      "metadata": {
        "id": "VBmemMNARBqu"
      }
    },
    {
      "cell_type": "code",
      "source": [
        "print('Accuracy score of the Support Vector Machines model is {}'.format(accuracy_score(y_test, svm_yhat)))"
      ],
      "metadata": {
        "id": "hhy0QJGugivk",
        "colab": {
          "base_uri": "https://localhost:8080/"
        },
        "outputId": "de765fac-a0b6-4285-dc26-66f3f353ed9d"
      },
      "execution_count": 159,
      "outputs": [
        {
          "output_type": "stream",
          "name": "stdout",
          "text": [
            "Accuracy score of the Support Vector Machines model is 0.9963332187464191\n"
          ]
        }
      ]
    },
    {
      "cell_type": "markdown",
      "source": [
        "Checking F1-Score for the Support Vector Machines model."
      ],
      "metadata": {
        "id": "mpJyD1otRD9L"
      }
    },
    {
      "cell_type": "code",
      "source": [
        "print('F1 score of the Support Vector Machines model is {}'.format(f1_score(y_test, svm_yhat)))"
      ],
      "metadata": {
        "id": "MApOIPVQglKb",
        "colab": {
          "base_uri": "https://localhost:8080/"
        },
        "outputId": "115113ea-e3de-4a06-ac97-a57cdab16953"
      },
      "execution_count": 160,
      "outputs": [
        {
          "output_type": "stream",
          "name": "stdout",
          "text": [
            "F1 score of the Support Vector Machines model is 0.0\n"
          ]
        }
      ]
    },
    {
      "cell_type": "markdown",
      "source": [
        "### ***Random Forest***"
      ],
      "metadata": {
        "id": "u0BTjS84RGuj"
      }
    },
    {
      "cell_type": "code",
      "source": [
        "rf = RandomForestClassifier(max_depth = 4)\n",
        "rf.fit(X_train, y_train)\n",
        "rf_yhat = rf.predict(X_test)"
      ],
      "metadata": {
        "id": "7Q_jpJwtgnQs"
      },
      "execution_count": 161,
      "outputs": []
    },
    {
      "cell_type": "markdown",
      "source": [
        "Let’s check the accuracy of our Random Forest model."
      ],
      "metadata": {
        "id": "RdshmMJYRKqp"
      }
    },
    {
      "cell_type": "code",
      "source": [
        "print('Accuracy score of the Random Forest model is {}'.format(accuracy_score(y_test, rf_yhat)))"
      ],
      "metadata": {
        "id": "odhl5IghgpeS",
        "colab": {
          "base_uri": "https://localhost:8080/"
        },
        "outputId": "21bdcaca-4037-4218-cd96-d5c9c01e788d"
      },
      "execution_count": 162,
      "outputs": [
        {
          "output_type": "stream",
          "name": "stdout",
          "text": [
            "Accuracy score of the Random Forest model is 0.9987395439440816\n"
          ]
        }
      ]
    },
    {
      "cell_type": "markdown",
      "source": [
        "Checking F1-Score for the Random Forest model."
      ],
      "metadata": {
        "id": "iGikez8KRNER"
      }
    },
    {
      "cell_type": "code",
      "source": [
        "print('F1 score of the Random Forest model is {}'.format(f1_score(y_test, rf_yhat)))"
      ],
      "metadata": {
        "id": "vXnWOYO5gzsB",
        "colab": {
          "base_uri": "https://localhost:8080/"
        },
        "outputId": "dac0ab43-c163-4f3a-daed-39eb3f9e89ae"
      },
      "execution_count": 163,
      "outputs": [
        {
          "output_type": "stream",
          "name": "stdout",
          "text": [
            "F1 score of the Random Forest model is 0.8\n"
          ]
        }
      ]
    },
    {
      "cell_type": "markdown",
      "source": [
        "### ***XGBoost***"
      ],
      "metadata": {
        "id": "rGeDhGuSRPdS"
      }
    },
    {
      "cell_type": "code",
      "source": [
        "xgb = XGBClassifier(max_depth = 4)\n",
        "xgb.fit(X_train, y_train)\n",
        "xgb_yhat = xgb.predict(X_test)"
      ],
      "metadata": {
        "id": "mfQlzrMyg2P8"
      },
      "execution_count": 164,
      "outputs": []
    },
    {
      "cell_type": "markdown",
      "source": [
        "Let’s check the accuracy of our XGBoost model."
      ],
      "metadata": {
        "id": "kwffOaMWRS-i"
      }
    },
    {
      "cell_type": "code",
      "source": [
        "print('Accuracy score of the XGBoost model is {}'.format(accuracy_score(y_test, xgb_yhat)))"
      ],
      "metadata": {
        "id": "nAnVi8gXg4lt",
        "colab": {
          "base_uri": "https://localhost:8080/"
        },
        "outputId": "ab3f458e-8f8e-4813-e103-147809f29f3b"
      },
      "execution_count": 165,
      "outputs": [
        {
          "output_type": "stream",
          "name": "stdout",
          "text": [
            "Accuracy score of the XGBoost model is 0.9985103701157327\n"
          ]
        }
      ]
    },
    {
      "cell_type": "markdown",
      "source": [
        "***We just received 99.95% accuracy in our credit card fraud detection!!!📯🚀🚀***"
      ],
      "metadata": {
        "id": "PP38S4DzRZnN"
      }
    },
    {
      "cell_type": "markdown",
      "source": [
        "Checking F1-Score for the XGBoost model."
      ],
      "metadata": {
        "id": "z2zZZ7xARVLr"
      }
    },
    {
      "cell_type": "code",
      "source": [
        "print('F1 score of the XGBoost model is {}'.format(f1_score(y_test, xgb_yhat)))"
      ],
      "metadata": {
        "id": "Og8DPfJog65J",
        "colab": {
          "base_uri": "https://localhost:8080/"
        },
        "outputId": "89732675-989f-4ea8-b789-695b56a952c4"
      },
      "execution_count": 166,
      "outputs": [
        {
          "output_type": "stream",
          "name": "stdout",
          "text": [
            "F1 score of the XGBoost model is 0.7636363636363634\n"
          ]
        }
      ]
    }
  ]
}